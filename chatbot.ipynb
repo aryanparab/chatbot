{
  "nbformat": 4,
  "nbformat_minor": 0,
  "metadata": {
    "colab": {
      "name": "Chatbot.ipynb",
      "provenance": [],
      "collapsed_sections": []
    },
    "kernelspec": {
      "name": "python3",
      "display_name": "Python 3"
    },
    "language_info": {
      "name": "python"
    },
    "accelerator": "GPU"
  },
  "cells": [
    {
      "cell_type": "code",
      "metadata": {
        "colab": {
          "base_uri": "https://localhost:8080/"
        },
        "id": "oZwBQSq6u3Nv",
        "outputId": "fa5cadb2-bf2f-4d96-ec70-1a6b0417b942"
      },
      "source": [
        "from google.colab import drive\n",
        "drive.mount('/content/drive/')"
      ],
      "execution_count": 1,
      "outputs": [
        {
          "output_type": "stream",
          "text": [
            "Drive already mounted at /content/drive/; to attempt to forcibly remount, call drive.mount(\"/content/drive/\", force_remount=True).\n"
          ],
          "name": "stdout"
        }
      ]
    },
    {
      "cell_type": "code",
      "metadata": {
        "id": "zP5FQxmcuXYr"
      },
      "source": [
        "import random \n",
        "import numpy as np\n",
        "import json\n",
        "import pickle\n",
        "import nltk \n",
        "from nltk.stem import WordNetLemmatizer\n",
        "\n",
        "from tensorflow.keras.models import Sequential \n",
        "from tensorflow.keras.layers import Dense, Activation, Dropout,LSTM,Embedding\n",
        "from tensorflow.keras.optimizers import SGD"
      ],
      "execution_count": 2,
      "outputs": []
    },
    {
      "cell_type": "code",
      "metadata": {
        "id": "9qRj_aIQu6iC"
      },
      "source": [
        "lemmatizer = WordNetLemmatizer()"
      ],
      "execution_count": 3,
      "outputs": []
    },
    {
      "cell_type": "code",
      "metadata": {
        "id": "1AqB4vyUw2ZK"
      },
      "source": [
        ""
      ],
      "execution_count": 50,
      "outputs": []
    },
    {
      "cell_type": "code",
      "metadata": {
        "id": "CNpZpy0eviNf"
      },
      "source": [
        "intents = json.loads(open('/content/drive/MyDrive/datasets/intents.json').read())"
      ],
      "execution_count": 4,
      "outputs": []
    },
    {
      "cell_type": "code",
      "metadata": {
        "colab": {
          "base_uri": "https://localhost:8080/"
        },
        "id": "fie3FAeiwjwn",
        "outputId": "81024969-80c2-4aca-9e5e-8169adcd6712"
      },
      "source": [
        "nltk.download('punkt')"
      ],
      "execution_count": 52,
      "outputs": [
        {
          "output_type": "stream",
          "text": [
            "[nltk_data] Downloading package punkt to /root/nltk_data...\n",
            "[nltk_data]   Package punkt is already up-to-date!\n"
          ],
          "name": "stdout"
        },
        {
          "output_type": "execute_result",
          "data": {
            "text/plain": [
              "True"
            ]
          },
          "metadata": {
            "tags": []
          },
          "execution_count": 52
        }
      ]
    },
    {
      "cell_type": "code",
      "metadata": {
        "id": "pb6qSJJtvqwG"
      },
      "source": [
        "words = []\n",
        "classes = []\n",
        "documents = []\n",
        "ignore_letters = ['?','/','.',',']\n",
        "for intent in intents['intents']:\n",
        "  for pattern in intent['patterns']:\n",
        "    word_list = nltk.word_tokenize(pattern) #basically converts string to list\n",
        "    words.extend(word_list)\n",
        "    documents.append((word_list,intent['tag']))\n",
        "    if intent['tag'] not in classes :\n",
        "      classes.append(intent['tag'])\n",
        "\n"
      ],
      "execution_count": 5,
      "outputs": []
    },
    {
      "cell_type": "code",
      "metadata": {
        "id": "NujcvStcwwCy"
      },
      "source": [
        "words"
      ],
      "execution_count": null,
      "outputs": []
    },
    {
      "cell_type": "code",
      "metadata": {
        "id": "1IkQB2GGwh0L"
      },
      "source": [
        "documents"
      ],
      "execution_count": null,
      "outputs": []
    },
    {
      "cell_type": "code",
      "metadata": {
        "colab": {
          "base_uri": "https://localhost:8080/"
        },
        "id": "MsVl3Y6axIDi",
        "outputId": "9142a5a2-cd0e-4b66-8b6f-d4f354c19c41"
      },
      "source": [
        "nltk.download('wordnet')"
      ],
      "execution_count": 56,
      "outputs": [
        {
          "output_type": "stream",
          "text": [
            "[nltk_data] Downloading package wordnet to /root/nltk_data...\n",
            "[nltk_data]   Package wordnet is already up-to-date!\n"
          ],
          "name": "stdout"
        },
        {
          "output_type": "execute_result",
          "data": {
            "text/plain": [
              "True"
            ]
          },
          "metadata": {
            "tags": []
          },
          "execution_count": 56
        }
      ]
    },
    {
      "cell_type": "code",
      "metadata": {
        "id": "8C91texlwm4_"
      },
      "source": [
        "words = [lemmatizer.lemmatize(word) for word in words if word not in ignore_letters]\n",
        "words = sorted(set(words))"
      ],
      "execution_count": 7,
      "outputs": []
    },
    {
      "cell_type": "code",
      "metadata": {
        "colab": {
          "base_uri": "https://localhost:8080/"
        },
        "id": "u4vo2nuJeuHb",
        "outputId": "fdfdc4f2-f3fc-4f94-b3da-98901429ba6f"
      },
      "source": [
        "classes"
      ],
      "execution_count": 6,
      "outputs": [
        {
          "output_type": "execute_result",
          "data": {
            "text/plain": [
              "['greeting',\n",
              " 'bored',\n",
              " 'about_me',\n",
              " 'info_career',\n",
              " 'relationship',\n",
              " 'goodbye',\n",
              " 'stocks']"
            ]
          },
          "metadata": {
            "tags": []
          },
          "execution_count": 6
        }
      ]
    },
    {
      "cell_type": "code",
      "metadata": {
        "id": "Ni719H9uxFHw"
      },
      "source": [
        "pickle.dump(words,open('words.pkl','wb'))\n",
        "pickle.dump(classes,open('classes.pkl','wb'))"
      ],
      "execution_count": 8,
      "outputs": []
    },
    {
      "cell_type": "code",
      "metadata": {
        "id": "zE7g6kdzxbQB"
      },
      "source": [
        "training = []\n",
        "output_empty = [0] * len(classes)\n",
        "for document in documents:\n",
        "  bag = []\n",
        "  word_patterns = document[0]\n",
        "  word_patterns = [lemmatizer.lemmatize(word.lower()) for word in word_patterns ]\n",
        "  for word in words :\n",
        "    bag.append(1) if word in word_patterns else bag.append(0)\n",
        "\n",
        "  output_row = list(output_empty)\n",
        "  output_row[classes.index(document[1])] = 1 \n",
        "  training.append([bag,output_row])"
      ],
      "execution_count": 9,
      "outputs": []
    },
    {
      "cell_type": "code",
      "metadata": {
        "colab": {
          "base_uri": "https://localhost:8080/"
        },
        "id": "ZCi6Yr8cy6vK",
        "outputId": "796c5847-5a2e-44c2-a0dc-3bb683fd6907"
      },
      "source": [
        "random.shuffle(training)\n",
        "training = np.array(training)"
      ],
      "execution_count": 10,
      "outputs": [
        {
          "output_type": "stream",
          "text": [
            "/usr/local/lib/python3.7/dist-packages/ipykernel_launcher.py:2: VisibleDeprecationWarning: Creating an ndarray from ragged nested sequences (which is a list-or-tuple of lists-or-tuples-or ndarrays with different lengths or shapes) is deprecated. If you meant to do this, you must specify 'dtype=object' when creating the ndarray\n",
            "  \n"
          ],
          "name": "stderr"
        }
      ]
    },
    {
      "cell_type": "code",
      "metadata": {
        "id": "vxOeKv0oy_ch"
      },
      "source": [
        "train_x = list(training[:,0])\n",
        "train_y = list(training[:,1])"
      ],
      "execution_count": 11,
      "outputs": []
    },
    {
      "cell_type": "code",
      "metadata": {
        "id": "dAb65SKizKLm"
      },
      "source": [
        "model = Sequential()\n",
        "model.add(Dense(128,input_shape=(len(train_x[0],),),activation='relu'))\n",
        "model.add(Dropout(0.5))\n",
        "model.add(Dense(64,activation='relu'))\n",
        "model.add(Dropout(0.5))\n",
        "model.add(Dense(len(train_y[0]),activation = 'softmax'))"
      ],
      "execution_count": 12,
      "outputs": []
    },
    {
      "cell_type": "code",
      "metadata": {
        "id": "-a6EILEYzVIi"
      },
      "source": [
        "sgd = SGD(lr=0.01,decay = 1e-6 , momentum = 0.9 , nesterov=True)\n",
        "model.compile(loss = \"categorical_crossentropy\",optimizer = sgd , metrics=['accuracy'])"
      ],
      "execution_count": 13,
      "outputs": []
    },
    {
      "cell_type": "code",
      "metadata": {
        "colab": {
          "base_uri": "https://localhost:8080/"
        },
        "id": "uWPB4_LBRvw8",
        "outputId": "756c34b7-b18b-4914-c6f2-d364a2809187"
      },
      "source": [
        "model.fit(np.array(train_x),np.array(train_y),epochs=200,batch_size=5,verbose = 5)"
      ],
      "execution_count": 14,
      "outputs": [
        {
          "output_type": "stream",
          "text": [
            "Epoch 1/200\n",
            "Epoch 2/200\n",
            "Epoch 3/200\n",
            "Epoch 4/200\n",
            "Epoch 5/200\n",
            "Epoch 6/200\n",
            "Epoch 7/200\n",
            "Epoch 8/200\n",
            "Epoch 9/200\n",
            "Epoch 10/200\n",
            "Epoch 11/200\n",
            "Epoch 12/200\n",
            "Epoch 13/200\n",
            "Epoch 14/200\n",
            "Epoch 15/200\n",
            "Epoch 16/200\n",
            "Epoch 17/200\n",
            "Epoch 18/200\n",
            "Epoch 19/200\n",
            "Epoch 20/200\n",
            "Epoch 21/200\n",
            "Epoch 22/200\n",
            "Epoch 23/200\n",
            "Epoch 24/200\n",
            "Epoch 25/200\n",
            "Epoch 26/200\n",
            "Epoch 27/200\n",
            "Epoch 28/200\n",
            "Epoch 29/200\n",
            "Epoch 30/200\n",
            "Epoch 31/200\n",
            "Epoch 32/200\n",
            "Epoch 33/200\n",
            "Epoch 34/200\n",
            "Epoch 35/200\n",
            "Epoch 36/200\n",
            "Epoch 37/200\n",
            "Epoch 38/200\n",
            "Epoch 39/200\n",
            "Epoch 40/200\n",
            "Epoch 41/200\n",
            "Epoch 42/200\n",
            "Epoch 43/200\n",
            "Epoch 44/200\n",
            "Epoch 45/200\n",
            "Epoch 46/200\n",
            "Epoch 47/200\n",
            "Epoch 48/200\n",
            "Epoch 49/200\n",
            "Epoch 50/200\n",
            "Epoch 51/200\n",
            "Epoch 52/200\n",
            "Epoch 53/200\n",
            "Epoch 54/200\n",
            "Epoch 55/200\n",
            "Epoch 56/200\n",
            "Epoch 57/200\n",
            "Epoch 58/200\n",
            "Epoch 59/200\n",
            "Epoch 60/200\n",
            "Epoch 61/200\n",
            "Epoch 62/200\n",
            "Epoch 63/200\n",
            "Epoch 64/200\n",
            "Epoch 65/200\n",
            "Epoch 66/200\n",
            "Epoch 67/200\n",
            "Epoch 68/200\n",
            "Epoch 69/200\n",
            "Epoch 70/200\n",
            "Epoch 71/200\n",
            "Epoch 72/200\n",
            "Epoch 73/200\n",
            "Epoch 74/200\n",
            "Epoch 75/200\n",
            "Epoch 76/200\n",
            "Epoch 77/200\n",
            "Epoch 78/200\n",
            "Epoch 79/200\n",
            "Epoch 80/200\n",
            "Epoch 81/200\n",
            "Epoch 82/200\n",
            "Epoch 83/200\n",
            "Epoch 84/200\n",
            "Epoch 85/200\n",
            "Epoch 86/200\n",
            "Epoch 87/200\n",
            "Epoch 88/200\n",
            "Epoch 89/200\n",
            "Epoch 90/200\n",
            "Epoch 91/200\n",
            "Epoch 92/200\n",
            "Epoch 93/200\n",
            "Epoch 94/200\n",
            "Epoch 95/200\n",
            "Epoch 96/200\n",
            "Epoch 97/200\n",
            "Epoch 98/200\n",
            "Epoch 99/200\n",
            "Epoch 100/200\n",
            "Epoch 101/200\n",
            "Epoch 102/200\n",
            "Epoch 103/200\n",
            "Epoch 104/200\n",
            "Epoch 105/200\n",
            "Epoch 106/200\n",
            "Epoch 107/200\n",
            "Epoch 108/200\n",
            "Epoch 109/200\n",
            "Epoch 110/200\n",
            "Epoch 111/200\n",
            "Epoch 112/200\n",
            "Epoch 113/200\n",
            "Epoch 114/200\n",
            "Epoch 115/200\n",
            "Epoch 116/200\n",
            "Epoch 117/200\n",
            "Epoch 118/200\n",
            "Epoch 119/200\n",
            "Epoch 120/200\n",
            "Epoch 121/200\n",
            "Epoch 122/200\n",
            "Epoch 123/200\n",
            "Epoch 124/200\n",
            "Epoch 125/200\n",
            "Epoch 126/200\n",
            "Epoch 127/200\n",
            "Epoch 128/200\n",
            "Epoch 129/200\n",
            "Epoch 130/200\n",
            "Epoch 131/200\n",
            "Epoch 132/200\n",
            "Epoch 133/200\n",
            "Epoch 134/200\n",
            "Epoch 135/200\n",
            "Epoch 136/200\n",
            "Epoch 137/200\n",
            "Epoch 138/200\n",
            "Epoch 139/200\n",
            "Epoch 140/200\n",
            "Epoch 141/200\n",
            "Epoch 142/200\n",
            "Epoch 143/200\n",
            "Epoch 144/200\n",
            "Epoch 145/200\n",
            "Epoch 146/200\n",
            "Epoch 147/200\n",
            "Epoch 148/200\n",
            "Epoch 149/200\n",
            "Epoch 150/200\n",
            "Epoch 151/200\n",
            "Epoch 152/200\n",
            "Epoch 153/200\n",
            "Epoch 154/200\n",
            "Epoch 155/200\n",
            "Epoch 156/200\n",
            "Epoch 157/200\n",
            "Epoch 158/200\n",
            "Epoch 159/200\n",
            "Epoch 160/200\n",
            "Epoch 161/200\n",
            "Epoch 162/200\n",
            "Epoch 163/200\n",
            "Epoch 164/200\n",
            "Epoch 165/200\n",
            "Epoch 166/200\n",
            "Epoch 167/200\n",
            "Epoch 168/200\n",
            "Epoch 169/200\n",
            "Epoch 170/200\n",
            "Epoch 171/200\n",
            "Epoch 172/200\n",
            "Epoch 173/200\n",
            "Epoch 174/200\n",
            "Epoch 175/200\n",
            "Epoch 176/200\n",
            "Epoch 177/200\n",
            "Epoch 178/200\n",
            "Epoch 179/200\n",
            "Epoch 180/200\n",
            "Epoch 181/200\n",
            "Epoch 182/200\n",
            "Epoch 183/200\n",
            "Epoch 184/200\n",
            "Epoch 185/200\n",
            "Epoch 186/200\n",
            "Epoch 187/200\n",
            "Epoch 188/200\n",
            "Epoch 189/200\n",
            "Epoch 190/200\n",
            "Epoch 191/200\n",
            "Epoch 192/200\n",
            "Epoch 193/200\n",
            "Epoch 194/200\n",
            "Epoch 195/200\n",
            "Epoch 196/200\n",
            "Epoch 197/200\n",
            "Epoch 198/200\n",
            "Epoch 199/200\n",
            "Epoch 200/200\n"
          ],
          "name": "stdout"
        },
        {
          "output_type": "execute_result",
          "data": {
            "text/plain": [
              "<tensorflow.python.keras.callbacks.History at 0x7fc41799b9d0>"
            ]
          },
          "metadata": {
            "tags": []
          },
          "execution_count": 14
        }
      ]
    },
    {
      "cell_type": "code",
      "metadata": {
        "id": "QAXAf52xSA-r"
      },
      "source": [
        "model.save('chatbot.h5')"
      ],
      "execution_count": 15,
      "outputs": []
    },
    {
      "cell_type": "code",
      "metadata": {
        "id": "V_jAtXHVSONn"
      },
      "source": [
        "from tensorflow.keras.models import load_model\n",
        "model = load_model('chatbot.h5')"
      ],
      "execution_count": 16,
      "outputs": []
    },
    {
      "cell_type": "code",
      "metadata": {
        "id": "W43diDBJTGRl"
      },
      "source": [
        "def clean_up_sentence(sentence):\n",
        "  sentence_words = nltk.word_tokenize(sentence)\n",
        "  sentence_words = [lemmatizer.lemmatize(word) for word in sentence_words]\n",
        "  return sentence_words "
      ],
      "execution_count": 17,
      "outputs": []
    },
    {
      "cell_type": "code",
      "metadata": {
        "id": "IfZgy-AbTh2k"
      },
      "source": [
        "def bag_of_words(sentence):\n",
        "  sentence_words = clean_up_sentence(sentence)\n",
        "  bag = [0] * len(words)\n",
        "  for w in sentence_words:\n",
        "    for i, word in enumerate(words):\n",
        "      if word == w :\n",
        "        bag[i] = 1\n",
        "  return np.array(bag)"
      ],
      "execution_count": 18,
      "outputs": []
    },
    {
      "cell_type": "code",
      "metadata": {
        "id": "Tk6_pG4eT96g"
      },
      "source": [
        "def predict_class(sentence):\n",
        "  bow = bag_of_words(sentence)\n",
        "  res = model.predict(np.array([bow]))[0]\n",
        "  ERROR_THRESHOLD = 0.25\n",
        "  results = [[i,r] for i, r in enumerate(res) if r > ERROR_THRESHOLD ]\n",
        "\n",
        "  results.sort(key=lambda x : x[1],reverse = True)\n",
        "  return_list = []\n",
        "  for r in results : \n",
        "    return_list.append({'intent':classes[r[0]] , 'probablity' : str(r[1])})\n",
        "  return return_list"
      ],
      "execution_count": 19,
      "outputs": []
    },
    {
      "cell_type": "code",
      "metadata": {
        "id": "ZLwkZznbWyiH"
      },
      "source": [
        "def get_response(intents_list,intents_json):\n",
        "  tag = intents_list[0]['intent']\n",
        "  list_of_intents = intents_json['intents']\n",
        "  for i in list_of_intents : \n",
        "    if i['tag'] == tag:\n",
        "      result = random.choice(i['responses'])\n",
        "      break\n",
        "  return result"
      ],
      "execution_count": 20,
      "outputs": []
    },
    {
      "cell_type": "code",
      "metadata": {
        "colab": {
          "base_uri": "https://localhost:8080/"
        },
        "id": "CjCHkdttefzb",
        "outputId": "b6d5cf67-3137-4436-df43-19e9c55e8292"
      },
      "source": [
        "classes"
      ],
      "execution_count": 21,
      "outputs": [
        {
          "output_type": "execute_result",
          "data": {
            "text/plain": [
              "['greeting',\n",
              " 'bored',\n",
              " 'about_me',\n",
              " 'info_career',\n",
              " 'relationship',\n",
              " 'goodbye',\n",
              " 'stocks']"
            ]
          },
          "metadata": {
            "tags": []
          },
          "execution_count": 21
        }
      ]
    },
    {
      "cell_type": "code",
      "metadata": {
        "colab": {
          "base_uri": "https://localhost:8080/",
          "height": 561
        },
        "id": "cXTK0hdqU-tG",
        "outputId": "75f9fb92-2cfc-4e9b-f46c-f51222793ce0"
      },
      "source": [
        "while True:\n",
        "  message = input(\"\")\n",
        "  ints = predict_class(message)\n",
        "  res = get_response(ints, intents)\n",
        "  print(res)"
      ],
      "execution_count": 24,
      "outputs": [
        {
          "output_type": "stream",
          "text": [
            "i am sad\n",
            "Talk to you later\n"
          ],
          "name": "stdout"
        },
        {
          "output_type": "error",
          "ename": "KeyboardInterrupt",
          "evalue": "ignored",
          "traceback": [
            "\u001b[0;31m---------------------------------------------------------------------------\u001b[0m",
            "\u001b[0;31mKeyboardInterrupt\u001b[0m                         Traceback (most recent call last)",
            "\u001b[0;32m/usr/local/lib/python3.7/dist-packages/ipykernel/kernelbase.py\u001b[0m in \u001b[0;36m_input_request\u001b[0;34m(self, prompt, ident, parent, password)\u001b[0m\n\u001b[1;32m    728\u001b[0m             \u001b[0;32mtry\u001b[0m\u001b[0;34m:\u001b[0m\u001b[0;34m\u001b[0m\u001b[0;34m\u001b[0m\u001b[0m\n\u001b[0;32m--> 729\u001b[0;31m                 \u001b[0mident\u001b[0m\u001b[0;34m,\u001b[0m \u001b[0mreply\u001b[0m \u001b[0;34m=\u001b[0m \u001b[0mself\u001b[0m\u001b[0;34m.\u001b[0m\u001b[0msession\u001b[0m\u001b[0;34m.\u001b[0m\u001b[0mrecv\u001b[0m\u001b[0;34m(\u001b[0m\u001b[0mself\u001b[0m\u001b[0;34m.\u001b[0m\u001b[0mstdin_socket\u001b[0m\u001b[0;34m,\u001b[0m \u001b[0;36m0\u001b[0m\u001b[0;34m)\u001b[0m\u001b[0;34m\u001b[0m\u001b[0;34m\u001b[0m\u001b[0m\n\u001b[0m\u001b[1;32m    730\u001b[0m             \u001b[0;32mexcept\u001b[0m \u001b[0mException\u001b[0m\u001b[0;34m:\u001b[0m\u001b[0;34m\u001b[0m\u001b[0;34m\u001b[0m\u001b[0m\n",
            "\u001b[0;32m/usr/local/lib/python3.7/dist-packages/jupyter_client/session.py\u001b[0m in \u001b[0;36mrecv\u001b[0;34m(self, socket, mode, content, copy)\u001b[0m\n\u001b[1;32m    802\u001b[0m         \u001b[0;32mtry\u001b[0m\u001b[0;34m:\u001b[0m\u001b[0;34m\u001b[0m\u001b[0;34m\u001b[0m\u001b[0m\n\u001b[0;32m--> 803\u001b[0;31m             \u001b[0mmsg_list\u001b[0m \u001b[0;34m=\u001b[0m \u001b[0msocket\u001b[0m\u001b[0;34m.\u001b[0m\u001b[0mrecv_multipart\u001b[0m\u001b[0;34m(\u001b[0m\u001b[0mmode\u001b[0m\u001b[0;34m,\u001b[0m \u001b[0mcopy\u001b[0m\u001b[0;34m=\u001b[0m\u001b[0mcopy\u001b[0m\u001b[0;34m)\u001b[0m\u001b[0;34m\u001b[0m\u001b[0;34m\u001b[0m\u001b[0m\n\u001b[0m\u001b[1;32m    804\u001b[0m         \u001b[0;32mexcept\u001b[0m \u001b[0mzmq\u001b[0m\u001b[0;34m.\u001b[0m\u001b[0mZMQError\u001b[0m \u001b[0;32mas\u001b[0m \u001b[0me\u001b[0m\u001b[0;34m:\u001b[0m\u001b[0;34m\u001b[0m\u001b[0;34m\u001b[0m\u001b[0m\n",
            "\u001b[0;32m/usr/local/lib/python3.7/dist-packages/zmq/sugar/socket.py\u001b[0m in \u001b[0;36mrecv_multipart\u001b[0;34m(self, flags, copy, track)\u001b[0m\n\u001b[1;32m    582\u001b[0m         \"\"\"\n\u001b[0;32m--> 583\u001b[0;31m         \u001b[0mparts\u001b[0m \u001b[0;34m=\u001b[0m \u001b[0;34m[\u001b[0m\u001b[0mself\u001b[0m\u001b[0;34m.\u001b[0m\u001b[0mrecv\u001b[0m\u001b[0;34m(\u001b[0m\u001b[0mflags\u001b[0m\u001b[0;34m,\u001b[0m \u001b[0mcopy\u001b[0m\u001b[0;34m=\u001b[0m\u001b[0mcopy\u001b[0m\u001b[0;34m,\u001b[0m \u001b[0mtrack\u001b[0m\u001b[0;34m=\u001b[0m\u001b[0mtrack\u001b[0m\u001b[0;34m)\u001b[0m\u001b[0;34m]\u001b[0m\u001b[0;34m\u001b[0m\u001b[0;34m\u001b[0m\u001b[0m\n\u001b[0m\u001b[1;32m    584\u001b[0m         \u001b[0;31m# have first part already, only loop while more to receive\u001b[0m\u001b[0;34m\u001b[0m\u001b[0;34m\u001b[0m\u001b[0;34m\u001b[0m\u001b[0m\n",
            "\u001b[0;32mzmq/backend/cython/socket.pyx\u001b[0m in \u001b[0;36mzmq.backend.cython.socket.Socket.recv\u001b[0;34m()\u001b[0m\n",
            "\u001b[0;32mzmq/backend/cython/socket.pyx\u001b[0m in \u001b[0;36mzmq.backend.cython.socket.Socket.recv\u001b[0;34m()\u001b[0m\n",
            "\u001b[0;32mzmq/backend/cython/socket.pyx\u001b[0m in \u001b[0;36mzmq.backend.cython.socket._recv_copy\u001b[0;34m()\u001b[0m\n",
            "\u001b[0;32m/usr/local/lib/python3.7/dist-packages/zmq/backend/cython/checkrc.pxd\u001b[0m in \u001b[0;36mzmq.backend.cython.checkrc._check_rc\u001b[0;34m()\u001b[0m\n",
            "\u001b[0;31mKeyboardInterrupt\u001b[0m: ",
            "\nDuring handling of the above exception, another exception occurred:\n",
            "\u001b[0;31mKeyboardInterrupt\u001b[0m                         Traceback (most recent call last)",
            "\u001b[0;32m<ipython-input-24-c6b8ca17239c>\u001b[0m in \u001b[0;36m<module>\u001b[0;34m()\u001b[0m\n\u001b[1;32m      1\u001b[0m \u001b[0;32mwhile\u001b[0m \u001b[0;32mTrue\u001b[0m\u001b[0;34m:\u001b[0m\u001b[0;34m\u001b[0m\u001b[0;34m\u001b[0m\u001b[0m\n\u001b[0;32m----> 2\u001b[0;31m   \u001b[0mmessage\u001b[0m \u001b[0;34m=\u001b[0m \u001b[0minput\u001b[0m\u001b[0;34m(\u001b[0m\u001b[0;34m\"\"\u001b[0m\u001b[0;34m)\u001b[0m\u001b[0;34m\u001b[0m\u001b[0;34m\u001b[0m\u001b[0m\n\u001b[0m\u001b[1;32m      3\u001b[0m   \u001b[0mints\u001b[0m \u001b[0;34m=\u001b[0m \u001b[0mpredict_class\u001b[0m\u001b[0;34m(\u001b[0m\u001b[0mmessage\u001b[0m\u001b[0;34m)\u001b[0m\u001b[0;34m\u001b[0m\u001b[0;34m\u001b[0m\u001b[0m\n\u001b[1;32m      4\u001b[0m   \u001b[0mres\u001b[0m \u001b[0;34m=\u001b[0m \u001b[0mget_response\u001b[0m\u001b[0;34m(\u001b[0m\u001b[0mints\u001b[0m\u001b[0;34m,\u001b[0m \u001b[0mintents\u001b[0m\u001b[0;34m)\u001b[0m\u001b[0;34m\u001b[0m\u001b[0;34m\u001b[0m\u001b[0m\n\u001b[1;32m      5\u001b[0m   \u001b[0mprint\u001b[0m\u001b[0;34m(\u001b[0m\u001b[0mres\u001b[0m\u001b[0;34m)\u001b[0m\u001b[0;34m\u001b[0m\u001b[0;34m\u001b[0m\u001b[0m\n",
            "\u001b[0;32m/usr/local/lib/python3.7/dist-packages/ipykernel/kernelbase.py\u001b[0m in \u001b[0;36mraw_input\u001b[0;34m(self, prompt)\u001b[0m\n\u001b[1;32m    702\u001b[0m             \u001b[0mself\u001b[0m\u001b[0;34m.\u001b[0m\u001b[0m_parent_ident\u001b[0m\u001b[0;34m,\u001b[0m\u001b[0;34m\u001b[0m\u001b[0;34m\u001b[0m\u001b[0m\n\u001b[1;32m    703\u001b[0m             \u001b[0mself\u001b[0m\u001b[0;34m.\u001b[0m\u001b[0m_parent_header\u001b[0m\u001b[0;34m,\u001b[0m\u001b[0;34m\u001b[0m\u001b[0;34m\u001b[0m\u001b[0m\n\u001b[0;32m--> 704\u001b[0;31m             \u001b[0mpassword\u001b[0m\u001b[0;34m=\u001b[0m\u001b[0;32mFalse\u001b[0m\u001b[0;34m,\u001b[0m\u001b[0;34m\u001b[0m\u001b[0;34m\u001b[0m\u001b[0m\n\u001b[0m\u001b[1;32m    705\u001b[0m         )\n\u001b[1;32m    706\u001b[0m \u001b[0;34m\u001b[0m\u001b[0m\n",
            "\u001b[0;32m/usr/local/lib/python3.7/dist-packages/ipykernel/kernelbase.py\u001b[0m in \u001b[0;36m_input_request\u001b[0;34m(self, prompt, ident, parent, password)\u001b[0m\n\u001b[1;32m    732\u001b[0m             \u001b[0;32mexcept\u001b[0m \u001b[0mKeyboardInterrupt\u001b[0m\u001b[0;34m:\u001b[0m\u001b[0;34m\u001b[0m\u001b[0;34m\u001b[0m\u001b[0m\n\u001b[1;32m    733\u001b[0m                 \u001b[0;31m# re-raise KeyboardInterrupt, to truncate traceback\u001b[0m\u001b[0;34m\u001b[0m\u001b[0;34m\u001b[0m\u001b[0;34m\u001b[0m\u001b[0m\n\u001b[0;32m--> 734\u001b[0;31m                 \u001b[0;32mraise\u001b[0m \u001b[0mKeyboardInterrupt\u001b[0m\u001b[0;34m\u001b[0m\u001b[0;34m\u001b[0m\u001b[0m\n\u001b[0m\u001b[1;32m    735\u001b[0m             \u001b[0;32melse\u001b[0m\u001b[0;34m:\u001b[0m\u001b[0;34m\u001b[0m\u001b[0;34m\u001b[0m\u001b[0m\n\u001b[1;32m    736\u001b[0m                 \u001b[0;32mbreak\u001b[0m\u001b[0;34m\u001b[0m\u001b[0;34m\u001b[0m\u001b[0m\n",
            "\u001b[0;31mKeyboardInterrupt\u001b[0m: "
          ]
        }
      ]
    },
    {
      "cell_type": "code",
      "metadata": {
        "id": "z3v82wAcWfbi"
      },
      "source": [
        ""
      ],
      "execution_count": null,
      "outputs": []
    }
  ]
}